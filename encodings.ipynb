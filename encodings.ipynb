{
 "cells": [
  {
   "cell_type": "code",
   "execution_count": 1,
   "id": "7ce51c81",
   "metadata": {},
   "outputs": [],
   "source": [
    "import numpy as np\n",
    "import pandas as pd\n",
    "import keras \n"
   ]
  },
  {
   "cell_type": "code",
   "execution_count": 2,
   "id": "a6f11046",
   "metadata": {},
   "outputs": [],
   "source": [
    "docs = ['indigo airlines',\n",
    "       'indian airplanes',\n",
    "       'hip hip hurray',\n",
    "       'won the match',\n",
    "       'nothing good',\n",
    "       'indian people',\n",
    "       'airplanes airlines',]"
   ]
  },
  {
   "cell_type": "code",
   "execution_count": 11,
   "id": "18dd2d2e",
   "metadata": {},
   "outputs": [
    {
     "data": {
      "text/plain": [
       "7"
      ]
     },
     "execution_count": 11,
     "metadata": {},
     "output_type": "execute_result"
    }
   ],
   "source": [
    "len(docs)"
   ]
  },
  {
   "cell_type": "code",
   "execution_count": 4,
   "id": "94e75923",
   "metadata": {},
   "outputs": [],
   "source": [
    "from tensorflow.keras.preprocessing.text import Tokenizer"
   ]
  },
  {
   "cell_type": "code",
   "execution_count": 5,
   "id": "66998986",
   "metadata": {},
   "outputs": [],
   "source": [
    "tokenizer = Tokenizer(oov_token='<nothing>')"
   ]
  },
  {
   "cell_type": "code",
   "execution_count": 7,
   "id": "86a50ac8",
   "metadata": {},
   "outputs": [],
   "source": [
    "tokenizer.fit_on_texts(docs)"
   ]
  },
  {
   "cell_type": "code",
   "execution_count": 8,
   "id": "c66054c1",
   "metadata": {},
   "outputs": [
    {
     "data": {
      "text/plain": [
       "{'<nothing>': 1,\n",
       " 'airlines': 2,\n",
       " 'indian': 3,\n",
       " 'airplanes': 4,\n",
       " 'hip': 5,\n",
       " 'indigo': 6,\n",
       " 'hurray': 7,\n",
       " 'won': 8,\n",
       " 'the': 9,\n",
       " 'match': 10,\n",
       " 'nothing': 11,\n",
       " 'good': 12,\n",
       " 'people': 13}"
      ]
     },
     "execution_count": 8,
     "metadata": {},
     "output_type": "execute_result"
    }
   ],
   "source": [
    "tokenizer.word_index"
   ]
  },
  {
   "cell_type": "code",
   "execution_count": 9,
   "id": "029cdf5a",
   "metadata": {},
   "outputs": [
    {
     "data": {
      "text/plain": [
       "OrderedDict([('indigo', 1),\n",
       "             ('airlines', 2),\n",
       "             ('indian', 2),\n",
       "             ('airplanes', 2),\n",
       "             ('hip', 2),\n",
       "             ('hurray', 1),\n",
       "             ('won', 1),\n",
       "             ('the', 1),\n",
       "             ('match', 1),\n",
       "             ('nothing', 1),\n",
       "             ('good', 1),\n",
       "             ('people', 1)])"
      ]
     },
     "execution_count": 9,
     "metadata": {},
     "output_type": "execute_result"
    }
   ],
   "source": [
    "tokenizer.word_counts\n"
   ]
  },
  {
   "cell_type": "code",
   "execution_count": 10,
   "id": "9ece94ea",
   "metadata": {},
   "outputs": [
    {
     "data": {
      "text/plain": [
       "7"
      ]
     },
     "execution_count": 10,
     "metadata": {},
     "output_type": "execute_result"
    }
   ],
   "source": [
    "tokenizer.document_count"
   ]
  },
  {
   "cell_type": "code",
   "execution_count": 12,
   "id": "7619068c",
   "metadata": {},
   "outputs": [],
   "source": [
    "sequences = tokenizer.texts_to_sequences(docs)"
   ]
  },
  {
   "cell_type": "code",
   "execution_count": 13,
   "id": "d12e4535",
   "metadata": {},
   "outputs": [
    {
     "data": {
      "text/plain": [
       "[[6, 2], [3, 4], [5, 5, 7], [8, 9, 10], [11, 12], [3, 13], [4, 2]]"
      ]
     },
     "execution_count": 13,
     "metadata": {},
     "output_type": "execute_result"
    }
   ],
   "source": [
    "sequences"
   ]
  },
  {
   "cell_type": "code",
   "execution_count": null,
   "id": "8def4365",
   "metadata": {},
   "outputs": [],
   "source": []
  }
 ],
 "metadata": {
  "kernelspec": {
   "display_name": "Python 3 (ipykernel)",
   "language": "python",
   "name": "python3"
  },
  "language_info": {
   "codemirror_mode": {
    "name": "ipython",
    "version": 3
   },
   "file_extension": ".py",
   "mimetype": "text/x-python",
   "name": "python",
   "nbconvert_exporter": "python",
   "pygments_lexer": "ipython3",
   "version": "3.11.5"
  }
 },
 "nbformat": 4,
 "nbformat_minor": 5
}
